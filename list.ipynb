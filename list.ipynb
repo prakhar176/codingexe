{
 "cells": [
  {
   "cell_type": "code",
   "execution_count": null,
   "metadata": {},
   "outputs": [],
   "source": [
    "## list\n",
    "- otdered  indexed\n",
    "- heterogenous\n",
    "- dynamic (mutable)\n",
    "- can hold multible values\n",
    "- can be nested\n",
    "- list ( ) isused to create a list from other iterables\n",
    "- square brackets[]are used to create a list"
   ]
  },
  {
   "cell_type": "code",
   "execution_count": 1,
   "metadata": {},
   "outputs": [],
   "source": [
    "x = ['Alex','Bob','Charlie','David']\n"
   ]
  },
  {
   "cell_type": "code",
   "execution_count": 6,
   "metadata": {},
   "outputs": [
    {
     "name": "stdout",
     "output_type": "stream",
     "text": [
      "['C', 'h', 'r', 'i', 's', 't', 'o', 'p', 'h', 'e', 'r']\n"
     ]
    }
   ],
   "source": [
    "word = 'Christopher'\n",
    "charsList = list(word)\n",
    "print(charsList)"
   ]
  },
  {
   "cell_type": "code",
   "execution_count": 4,
   "metadata": {},
   "outputs": [
    {
     "name": "stdout",
     "output_type": "stream",
     "text": [
      "[0, 1, 2, 3, 4, 5, 6, 7, 8, 9, 10, 11, 12, 13, 14, 15, 16, 17, 18, 19, 20, 21, 22, 23, 24, 25, 26, 27, 28, 29, 30, 31, 32, 33, 34, 35, 36, 37, 38, 39, 40, 41, 42, 43, 44, 45, 46, 47, 48, 49, 50, 51, 52, 53, 54, 55, 56, 57, 58, 59, 60, 61, 62, 63, 64, 65, 66, 67, 68, 69, 70, 71, 72, 73, 74, 75, 76, 77, 78, 79, 80, 81, 82, 83, 84, 85, 86, 87, 88, 89, 90, 91, 92, 93, 94, 95, 96, 97, 98, 99]\n"
     ]
    }
   ],
   "source": [
    "list100 = list(range(100))\n",
    "print(list100)"
   ]
  },
  {
   "cell_type": "code",
   "execution_count": 8,
   "metadata": {},
   "outputs": [
    {
     "data": {
      "text/plain": [
       "'C'"
      ]
     },
     "execution_count": 8,
     "metadata": {},
     "output_type": "execute_result"
    }
   ],
   "source": [
    "charsList[0]"
   ]
  },
  {
   "cell_type": "code",
   "execution_count": 10,
   "metadata": {},
   "outputs": [],
   "source": [
    "charsList[0] = 22"
   ]
  },
  {
   "cell_type": "code",
   "execution_count": 11,
   "metadata": {},
   "outputs": [
    {
     "data": {
      "text/plain": [
       "[22, 'h', 'r', 'i', 's', 't', 'o', 'p', 'h', 'e', 'r']"
      ]
     },
     "execution_count": 11,
     "metadata": {},
     "output_type": "execute_result"
    }
   ],
   "source": [
    "charsList"
   ]
  },
  {
   "cell_type": "code",
   "execution_count": null,
   "metadata": {},
   "outputs": [],
   "source": [
    "## first five elemets\n",
    "## last three elements\n",
    "## all excet 1st and last element"
   ]
  },
  {
   "cell_type": "markdown",
   "metadata": {},
   "source": [
    "list methods\n",
    "functions that add item\n",
    "- append\n",
    "- insert\n",
    "- extend\n",
    "functions that remove item\n",
    "- remove\n",
    "- pop\n",
    "- clear\n",
    "functions that change items\n",
    "- sort\n",
    "- reverse\n",
    "- copy\n",
    "- index\n",
    "- count\n",
    "\n"
   ]
  },
  {
   "cell_type": "code",
   "execution_count": 12,
   "metadata": {},
   "outputs": [],
   "source": [
    "books = ['Warbreaker'\n",
    "        'the way of the kings'\n",
    "        'the final empire'\n",
    "        'the hero of ages'\n",
    "        'the final empire']"
   ]
  },
  {
   "cell_type": "code",
   "execution_count": 13,
   "metadata": {},
   "outputs": [
    {
     "name": "stdout",
     "output_type": "stream",
     "text": [
      "['Warbreakerthe way of the kingsthe final empirethe hero of agesthe final empire', 'legion']\n"
     ]
    }
   ],
   "source": [
    "books.append('legion')\n",
    "print(books)"
   ]
  },
  {
   "cell_type": "code",
   "execution_count": 14,
   "metadata": {},
   "outputs": [
    {
     "name": "stdout",
     "output_type": "stream",
     "text": [
      "['Warbreakerthe way of the kingsthe final empirethe hero of agesthe final empire', 'legion', 'elantris']\n"
     ]
    }
   ],
   "source": [
    "name = 'elantris'\n",
    "books.append(name)\n",
    "print(books)"
   ]
  },
  {
   "cell_type": "code",
   "execution_count": 15,
   "metadata": {},
   "outputs": [
    {
     "name": "stdout",
     "output_type": "stream",
     "text": [
      "[1212324, 23234234, 34534543, 5465765, 564667657, 4534546546, 3456765, 3546565675, 3344536546, 445464565]\n"
     ]
    }
   ],
   "source": [
    "numbers = []\n",
    "for i in range(10):\n",
    "    val = int(input('>< enter a number: '))\n",
    "    numbers.append(val)\n",
    "print(numbers)"
   ]
  },
  {
   "cell_type": "code",
   "execution_count": 18,
   "metadata": {},
   "outputs": [],
   "source": [
    "numbers.append(['banana','orange'])"
   ]
  },
  {
   "cell_type": "code",
   "execution_count": 19,
   "metadata": {},
   "outputs": [
    {
     "data": {
      "text/plain": [
       "[1212324,\n",
       " 23234234,\n",
       " 34534543,\n",
       " 5465765,\n",
       " 564667657,\n",
       " 4534546546,\n",
       " 3456765,\n",
       " 3546565675,\n",
       " 3344536546,\n",
       " 445464565,\n",
       " ['banana', 'orange'],\n",
       " ['banana', 'orange']]"
      ]
     },
     "execution_count": 19,
     "metadata": {},
     "output_type": "execute_result"
    }
   ],
   "source": [
    "numbers"
   ]
  },
  {
   "cell_type": "code",
   "execution_count": 21,
   "metadata": {},
   "outputs": [
    {
     "data": {
      "text/plain": [
       "[1, 2, 3.5, 3, 4, 5]"
      ]
     },
     "execution_count": 21,
     "metadata": {},
     "output_type": "execute_result"
    }
   ],
   "source": [
    "x = [1,2,3,4,5]\n",
    "x.insert(2, 3.5,)\n",
    "x"
   ]
  },
  {
   "cell_type": "code",
   "execution_count": 22,
   "metadata": {},
   "outputs": [],
   "source": [
    "x.insert(4,10)"
   ]
  },
  {
   "cell_type": "code",
   "execution_count": 23,
   "metadata": {},
   "outputs": [
    {
     "data": {
      "text/plain": [
       "[1, 2, 3.5, 3, 10, 4, 5]"
      ]
     },
     "execution_count": 23,
     "metadata": {},
     "output_type": "execute_result"
    }
   ],
   "source": [
    "x"
   ]
  },
  {
   "cell_type": "code",
   "execution_count": 26,
   "metadata": {},
   "outputs": [],
   "source": [
    "movies = [\n",
    "    'the shawashank redemtion'\n",
    "    'the da vinci code'\n",
    "    'god of wars'\n",
    "    'the american sniper'\n",
    "    'narcos mexico']"
   ]
  },
  {
   "cell_type": "code",
   "execution_count": 27,
   "metadata": {},
   "outputs": [
    {
     "ename": "ValueError",
     "evalue": "list.remove(x): x not in list",
     "output_type": "error",
     "traceback": [
      "\u001b[1;31m---------------------------------------------------------------------------\u001b[0m",
      "\u001b[1;31mValueError\u001b[0m                                Traceback (most recent call last)",
      "\u001b[1;32mc:\\Users\\ACER\\Documents\\codingexe\\list.ipynb Cell 20'\u001b[0m in \u001b[0;36m<cell line: 1>\u001b[1;34m()\u001b[0m\n\u001b[1;32m----> <a href='vscode-notebook-cell:/c%3A/Users/ACER/Documents/codingexe/list.ipynb#ch0000021?line=0'>1</a>\u001b[0m movies\u001b[39m.\u001b[39;49mremove(\u001b[39m'\u001b[39;49m\u001b[39mgod of wars\u001b[39;49m\u001b[39m'\u001b[39;49m)\n\u001b[0;32m      <a href='vscode-notebook-cell:/c%3A/Users/ACER/Documents/codingexe/list.ipynb#ch0000021?line=1'>2</a>\u001b[0m movies\n",
      "\u001b[1;31mValueError\u001b[0m: list.remove(x): x not in list"
     ]
    }
   ],
   "source": [
    "movies.remove('god of wars')\n",
    "movies"
   ]
  },
  {
   "cell_type": "code",
   "execution_count": 29,
   "metadata": {},
   "outputs": [
    {
     "name": "stdout",
     "output_type": "stream",
     "text": [
      "['blue', 'green', 'orange', 'red', 'yellow']\n"
     ]
    }
   ],
   "source": [
    "colors = ['red','yellow','green','blue','orange']\n",
    "colors.sort()\n",
    "print(colors)"
   ]
  },
  {
   "cell_type": "code",
   "execution_count": 30,
   "metadata": {},
   "outputs": [
    {
     "name": "stdout",
     "output_type": "stream",
     "text": [
      "['yellow', 'red', 'orange', 'green', 'blue']\n"
     ]
    }
   ],
   "source": [
    "colors.reverse()\n",
    "print(colors)"
   ]
  },
  {
   "cell_type": "code",
   "execution_count": null,
   "metadata": {},
   "outputs": [],
   "source": []
  }
 ],
 "metadata": {
  "interpreter": {
   "hash": "ecf5722fdaf1897a315d257d89d94520bfcaa453217d5becf09b39e73618b0de"
  },
  "kernelspec": {
   "display_name": "Python 3.9.12 ('base')",
   "language": "python",
   "name": "python3"
  },
  "language_info": {
   "codemirror_mode": {
    "name": "ipython",
    "version": 3
   },
   "file_extension": ".py",
   "mimetype": "text/x-python",
   "name": "python",
   "nbconvert_exporter": "python",
   "pygments_lexer": "ipython3",
   "version": "3.9.12"
  },
  "orig_nbformat": 4
 },
 "nbformat": 4,
 "nbformat_minor": 2
}

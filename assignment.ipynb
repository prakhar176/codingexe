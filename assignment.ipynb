{
 "cells": [
  {
   "cell_type": "code",
   "execution_count": 1,
   "metadata": {},
   "outputs": [
    {
     "name": "stdout",
     "output_type": "stream",
     "text": [
      "Hello, How are you?\n"
     ]
    }
   ],
   "source": [
    "def String():\n",
    "  Str='Hello, How are you?'\n",
    "  print(Str)\n",
    "String()"
   ]
  },
  {
   "cell_type": "code",
   "execution_count": 3,
   "metadata": {},
   "outputs": [
    {
     "name": "stdout",
     "output_type": "stream",
     "text": [
      "14\n"
     ]
    }
   ],
   "source": [
    "Strings=('Enter a String')\n",
    "b=len(Strings)\n",
    "print(b)"
   ]
  },
  {
   "cell_type": "code",
   "execution_count": 4,
   "metadata": {},
   "outputs": [
    {
     "name": "stdout",
     "output_type": "stream",
     "text": [
      "great\n"
     ]
    }
   ],
   "source": [
    "my_str='Python is great'\n",
    "b=len(my_str)\n",
    "slice1=my_str[10:b]\n",
    "print(slice1)"
   ]
  },
  {
   "cell_type": "code",
   "execution_count": 5,
   "metadata": {},
   "outputs": [
    {
     "name": "stdout",
     "output_type": "stream",
     "text": [
      "['Python', 'is', 'everywhere']\n",
      "Python\n",
      " \n",
      "is\n",
      " \n",
      "everywhere\n",
      " \n"
     ]
    }
   ],
   "source": [
    "i=0\n",
    "q4='Python is everywhere'\n",
    "new=''\n",
    "new=q4.split()\n",
    "print(new)\n",
    "for d in range(3):\n",
    " Str=new[i]+'''\n",
    " '''\n",
    " i=i+1\n",
    " print(Str)"
   ]
  },
  {
   "cell_type": "code",
   "execution_count": 6,
   "metadata": {},
   "outputs": [
    {
     "name": "stdout",
     "output_type": "stream",
     "text": [
      "!dlroW olleH\n"
     ]
    }
   ],
   "source": [
    "d=''\n",
    "stri='Hello World!'\n",
    "d=stri[::-1]\n",
    "print(d)\n"
   ]
  },
  {
   "cell_type": "code",
   "execution_count": 7,
   "metadata": {},
   "outputs": [
    {
     "name": "stdout",
     "output_type": "stream",
     "text": [
      "HOW ARE YOU?\n"
     ]
    }
   ],
   "source": [
    "up='how are you?'\n",
    "d=up.upper()\n",
    "print(d)\n"
   ]
  },
  {
   "cell_type": "code",
   "execution_count": 8,
   "metadata": {},
   "outputs": [
    {
     "name": "stdout",
     "output_type": "stream",
     "text": [
      "how are you?\n"
     ]
    }
   ],
   "source": [
    "up='How Are YOU?'\n",
    "d=up.lower()\n",
    "print(d)"
   ]
  },
  {
   "cell_type": "code",
   "execution_count": 9,
   "metadata": {},
   "outputs": [
    {
     "name": "stdout",
     "output_type": "stream",
     "text": [
      "Python is easy to learn\n"
     ]
    }
   ],
   "source": [
    "updated=''\n",
    "words = ['Python', 'is', 'easy', 'to', 'learn']\n",
    "updated=' '.join(words)\n",
    "print(updated)"
   ]
  },
  {
   "cell_type": "code",
   "execution_count": 10,
   "metadata": {},
   "outputs": [
    {
     "name": "stdout",
     "output_type": "stream",
     "text": [
      "HI\n",
      "hiw\n",
      "fgdfsdf\n"
     ]
    }
   ],
   "source": [
    "print('''HI\n",
    "hiw\n",
    "fgdfsdf''')"
   ]
  },
  {
   "cell_type": "code",
   "execution_count": 11,
   "metadata": {},
   "outputs": [
    {
     "name": "stdout",
     "output_type": "stream",
     "text": [
      "to move to newline /n is used.\n"
     ]
    }
   ],
   "source": [
    "print_exact=\"to move to newline /n is used.\"\n",
    "print(print_exact)"
   ]
  },
  {
   "cell_type": "code",
   "execution_count": 12,
   "metadata": {},
   "outputs": [
    {
     "name": "stdout",
     "output_type": "stream",
     "text": [
      "The Variable is  15\n"
     ]
    }
   ],
   "source": [
    "test='The Variable is '\n",
    "d=15\n",
    "print(test,d)"
   ]
  },
  {
   "cell_type": "code",
   "execution_count": 13,
   "metadata": {},
   "outputs": [
    {
     "name": "stdout",
     "output_type": "stream",
     "text": [
      "python is great\n"
     ]
    }
   ],
   "source": [
    "s1='python'\n",
    "s2='is'\n",
    "s3='great'\n",
    "s4=s1+' '+s2+' '+s3\n",
    "print(s4)"
   ]
  },
  {
   "cell_type": "code",
   "execution_count": 14,
   "metadata": {},
   "outputs": [
    {
     "name": "stdout",
     "output_type": "stream",
     "text": [
      "####################\n"
     ]
    }
   ],
   "source": [
    "cha='#'\n",
    "print(cha*20)\n"
   ]
  },
  {
   "cell_type": "code",
   "execution_count": 15,
   "metadata": {},
   "outputs": [
    {
     "name": "stdout",
     "output_type": "stream",
     "text": [
      "1 .\n",
      "2 .\n",
      "3 .\n",
      "4 .\n",
      "5 .\n",
      "6 .\n",
      "7 .\n",
      "8 .\n",
      "9 .\n"
     ]
    }
   ],
   "source": [
    "i=1\n",
    "for j in range(9):\n",
    "  print(i,'.')\n",
    "  i+=1\n"
   ]
  },
  {
   "cell_type": "code",
   "execution_count": 16,
   "metadata": {},
   "outputs": [
    {
     "name": "stdout",
     "output_type": "stream",
     "text": [
      "thara bhai joginder\n"
     ]
    }
   ],
   "source": [
    "story =input('''Enter a story : ''')\n",
    "len(story)\n",
    "story.split()\n",
    "print(story)\n"
   ]
  },
  {
   "cell_type": "code",
   "execution_count": 17,
   "metadata": {},
   "outputs": [
    {
     "name": "stdout",
     "output_type": "stream",
     "text": [
      "Noooooo\n"
     ]
    }
   ],
   "source": [
    "Enter=input('Enter a String : ')\n",
    "d=len(Enter)\n",
    "d=d-1\n",
    "if Enter[d]=='?':\n",
    "  print('Indeed it has :)')\n",
    "else:\n",
    "    print('Noooooo')\n"
   ]
  },
  {
   "cell_type": "code",
   "execution_count": 18,
   "metadata": {},
   "outputs": [
    {
     "name": "stdout",
     "output_type": "stream",
     "text": [
      "3 e\n"
     ]
    }
   ],
   "source": [
    "vowels = 'e'\n",
    "message = input('Enter a String :')\n",
    "for vowel in vowels:\n",
    "    print(message.count(vowel),vowel)"
   ]
  },
  {
   "cell_type": "code",
   "execution_count": 19,
   "metadata": {},
   "outputs": [
    {
     "name": "stdout",
     "output_type": "stream",
     "text": [
      "it is a numeric\n"
     ]
    }
   ],
   "source": [
    "char=input('Input a Character')\n",
    "if char.isnumeric():\n",
    "  print('it is a numeric')\n",
    "else:\n",
    "  print('No')"
   ]
  },
  {
   "cell_type": "code",
   "execution_count": 20,
   "metadata": {},
   "outputs": [
    {
     "data": {
      "text/plain": [
       "'this is not a good string'"
      ]
     },
     "execution_count": 20,
     "metadata": {},
     "output_type": "execute_result"
    }
   ],
   "source": [
    "text = '   this is not a good string           '\n",
    "text.strip()\n"
   ]
  },
  {
   "cell_type": "code",
   "execution_count": 21,
   "metadata": {},
   "outputs": [
    {
     "name": "stdout",
     "output_type": "stream",
     "text": [
      "0 A\n",
      "0 B\n",
      "0 C\n",
      "0 D\n",
      "0 E\n",
      "0 F\n",
      "0 G\n",
      "0 H\n",
      "0 I\n",
      "0 J\n",
      "0 K\n",
      "0 L\n",
      "0 M\n",
      "0 N\n",
      "0 O\n",
      "0 P\n",
      "0 Q\n",
      "0 R\n",
      "0 S\n",
      "0 T\n",
      "0 U\n",
      "0 V\n",
      "0 W\n",
      "0 X\n",
      "0 Y\n",
      "0 Z\n",
      "found\n"
     ]
    }
   ],
   "source": [
    "vowels = 'ABCDEFGHIJKLMNOPQRSTUVWXYZ'\n",
    "message = input('Enter a String :')\n",
    "d=0\n",
    "for vowel in vowels:\n",
    "    print(message.count(vowel),vowel)\n",
    "    d+=1\n",
    "if d>0:\n",
    "  print('found')\n",
    "else:\n",
    "  print('Not Found')"
   ]
  },
  {
   "cell_type": "code",
   "execution_count": 22,
   "metadata": {},
   "outputs": [
    {
     "name": "stdout",
     "output_type": "stream",
     "text": [
      "['J']\n",
      "['J', 'o']\n",
      "['J', 'o', 'e']\n",
      "['J', 'o', 'e', ',']\n",
      "['J', 'o', 'e', ',', ' ']\n",
      "['J', 'o', 'e', ',', ' ', 'D']\n",
      "['J', 'o', 'e', ',', ' ', 'D', 'a']\n",
      "['J', 'o', 'e', ',', ' ', 'D', 'a', 'v']\n",
      "['J', 'o', 'e', ',', ' ', 'D', 'a', 'v', 'i']\n",
      "['J', 'o', 'e', ',', ' ', 'D', 'a', 'v', 'i', 'd']\n",
      "['J', 'o', 'e', ',', ' ', 'D', 'a', 'v', 'i', 'd', ',']\n",
      "['J', 'o', 'e', ',', ' ', 'D', 'a', 'v', 'i', 'd', ',', ' ']\n",
      "['J', 'o', 'e', ',', ' ', 'D', 'a', 'v', 'i', 'd', ',', ' ', 'M']\n",
      "['J', 'o', 'e', ',', ' ', 'D', 'a', 'v', 'i', 'd', ',', ' ', 'M', 'a']\n",
      "['J', 'o', 'e', ',', ' ', 'D', 'a', 'v', 'i', 'd', ',', ' ', 'M', 'a', 'r']\n",
      "['J', 'o', 'e', ',', ' ', 'D', 'a', 'v', 'i', 'd', ',', ' ', 'M', 'a', 'r', 'k']\n",
      "['J', 'o', 'e', ',', ' ', 'D', 'a', 'v', 'i', 'd', ',', ' ', 'M', 'a', 'r', 'k', ',']\n",
      "['J', 'o', 'e', ',', ' ', 'D', 'a', 'v', 'i', 'd', ',', ' ', 'M', 'a', 'r', 'k', ',', ' ']\n",
      "['J', 'o', 'e', ',', ' ', 'D', 'a', 'v', 'i', 'd', ',', ' ', 'M', 'a', 'r', 'k', ',', ' ', 'T']\n",
      "['J', 'o', 'e', ',', ' ', 'D', 'a', 'v', 'i', 'd', ',', ' ', 'M', 'a', 'r', 'k', ',', ' ', 'T', 'o']\n",
      "['J', 'o', 'e', ',', ' ', 'D', 'a', 'v', 'i', 'd', ',', ' ', 'M', 'a', 'r', 'k', ',', ' ', 'T', 'o', 'm']\n",
      "['J', 'o', 'e', ',', ' ', 'D', 'a', 'v', 'i', 'd', ',', ' ', 'M', 'a', 'r', 'k', ',', ' ', 'T', 'o', 'm', ',']\n",
      "['J', 'o', 'e', ',', ' ', 'D', 'a', 'v', 'i', 'd', ',', ' ', 'M', 'a', 'r', 'k', ',', ' ', 'T', 'o', 'm', ',', ' ']\n",
      "['J', 'o', 'e', ',', ' ', 'D', 'a', 'v', 'i', 'd', ',', ' ', 'M', 'a', 'r', 'k', ',', ' ', 'T', 'o', 'm', ',', ' ', 'C']\n",
      "['J', 'o', 'e', ',', ' ', 'D', 'a', 'v', 'i', 'd', ',', ' ', 'M', 'a', 'r', 'k', ',', ' ', 'T', 'o', 'm', ',', ' ', 'C', 'h']\n",
      "['J', 'o', 'e', ',', ' ', 'D', 'a', 'v', 'i', 'd', ',', ' ', 'M', 'a', 'r', 'k', ',', ' ', 'T', 'o', 'm', ',', ' ', 'C', 'h', 'r']\n",
      "['J', 'o', 'e', ',', ' ', 'D', 'a', 'v', 'i', 'd', ',', ' ', 'M', 'a', 'r', 'k', ',', ' ', 'T', 'o', 'm', ',', ' ', 'C', 'h', 'r', 'i']\n",
      "['J', 'o', 'e', ',', ' ', 'D', 'a', 'v', 'i', 'd', ',', ' ', 'M', 'a', 'r', 'k', ',', ' ', 'T', 'o', 'm', ',', ' ', 'C', 'h', 'r', 'i', 's']\n",
      "['J', 'o', 'e', ',', ' ', 'D', 'a', 'v', 'i', 'd', ',', ' ', 'M', 'a', 'r', 'k', ',', ' ', 'T', 'o', 'm', ',', ' ', 'C', 'h', 'r', 'i', 's', ',']\n",
      "['J', 'o', 'e', ',', ' ', 'D', 'a', 'v', 'i', 'd', ',', ' ', 'M', 'a', 'r', 'k', ',', ' ', 'T', 'o', 'm', ',', ' ', 'C', 'h', 'r', 'i', 's', ',', ' ']\n",
      "['J', 'o', 'e', ',', ' ', 'D', 'a', 'v', 'i', 'd', ',', ' ', 'M', 'a', 'r', 'k', ',', ' ', 'T', 'o', 'm', ',', ' ', 'C', 'h', 'r', 'i', 's', ',', ' ', 'R']\n",
      "['J', 'o', 'e', ',', ' ', 'D', 'a', 'v', 'i', 'd', ',', ' ', 'M', 'a', 'r', 'k', ',', ' ', 'T', 'o', 'm', ',', ' ', 'C', 'h', 'r', 'i', 's', ',', ' ', 'R', 'o']\n",
      "['J', 'o', 'e', ',', ' ', 'D', 'a', 'v', 'i', 'd', ',', ' ', 'M', 'a', 'r', 'k', ',', ' ', 'T', 'o', 'm', ',', ' ', 'C', 'h', 'r', 'i', 's', ',', ' ', 'R', 'o', 'b']\n",
      "['J', 'o', 'e', ',', ' ', 'D', 'a', 'v', 'i', 'd', ',', ' ', 'M', 'a', 'r', 'k', ',', ' ', 'T', 'o', 'm', ',', ' ', 'C', 'h', 'r', 'i', 's', ',', ' ', 'R', 'o', 'b', 'e']\n",
      "['J', 'o', 'e', ',', ' ', 'D', 'a', 'v', 'i', 'd', ',', ' ', 'M', 'a', 'r', 'k', ',', ' ', 'T', 'o', 'm', ',', ' ', 'C', 'h', 'r', 'i', 's', ',', ' ', 'R', 'o', 'b', 'e', 'r']\n",
      "['J', 'o', 'e', ',', ' ', 'D', 'a', 'v', 'i', 'd', ',', ' ', 'M', 'a', 'r', 'k', ',', ' ', 'T', 'o', 'm', ',', ' ', 'C', 'h', 'r', 'i', 's', ',', ' ', 'R', 'o', 'b', 'e', 'r', 't']\n"
     ]
    }
   ],
   "source": [
    "names = 'Joe, David, Mark, Tom, Chris, Robert'\n",
    "m=[]\n",
    "d=len(names)\n",
    "for i in range(d):\n",
    "  m.append(names[i])\n",
    "  print(m)\n"
   ]
  },
  {
   "cell_type": "code",
   "execution_count": null,
   "metadata": {},
   "outputs": [],
   "source": []
  }
 ],
 "metadata": {
  "interpreter": {
   "hash": "25a19fbe0a9132dfb9279d48d161753c6352f8f9478c2e74383d340069b907c3"
  },
  "kernelspec": {
   "display_name": "Python 3.9.12 64-bit",
   "language": "python",
   "name": "python3"
  },
  "language_info": {
   "codemirror_mode": {
    "name": "ipython",
    "version": 3
   },
   "file_extension": ".py",
   "mimetype": "text/x-python",
   "name": "python",
   "nbconvert_exporter": "python",
   "pygments_lexer": "ipython3",
   "version": "3.9.12"
  },
  "orig_nbformat": 4
 },
 "nbformat": 4,
 "nbformat_minor": 2
}

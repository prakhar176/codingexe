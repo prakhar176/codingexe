{
 "cells": [
  {
   "cell_type": "code",
   "execution_count": 1,
   "metadata": {},
   "outputs": [
    {
     "name": "stdout",
     "output_type": "stream",
     "text": [
      "P\n",
      "Y\n",
      "T\n",
      "H\n",
      "O\n",
      "N\n"
     ]
    }
   ],
   "source": [
    "x = \"PYTHON\"\n",
    "for i in x:\n",
    "    print (i)"
   ]
  },
  {
   "cell_type": "code",
   "execution_count": 3,
   "metadata": {},
   "outputs": [
    {
     "name": "stdout",
     "output_type": "stream",
     "text": [
      "s\n",
      "u\n",
      "r\n",
      "e\n",
      " \n",
      "b\n",
      "r\n",
      "o\n"
     ]
    }
   ],
   "source": [
    "x = \"sure bro\"\n",
    "for i in x:\n",
    "    print (i)"
   ]
  },
  {
   "cell_type": "code",
   "execution_count": 2,
   "metadata": {},
   "outputs": [
    {
     "name": "stdout",
     "output_type": "stream",
     "text": [
      "o\n",
      "n\n",
      "c\n",
      "e\n",
      " \n",
      "u\n",
      "p\n",
      "o\n",
      "n\n",
      " \n",
      "a\n",
      " \n",
      "t\n",
      "i\n",
      "m\n",
      "e\n",
      ".\n",
      ".\n",
      ".\n"
     ]
    }
   ],
   "source": [
    "story = \"once upon a time...\"\n",
    "for char in story:\n",
    "    print(char)"
   ]
  }
 ],
 "metadata": {
  "interpreter": {
   "hash": "ecf5722fdaf1897a315d257d89d94520bfcaa453217d5becf09b39e73618b0de"
  },
  "kernelspec": {
   "display_name": "Python 3.9.12 ('base')",
   "language": "python",
   "name": "python3"
  },
  "language_info": {
   "codemirror_mode": {
    "name": "ipython",
    "version": 3
   },
   "file_extension": ".py",
   "mimetype": "text/x-python",
   "name": "python",
   "nbconvert_exporter": "python",
   "pygments_lexer": "ipython3",
   "version": "3.9.12"
  },
  "orig_nbformat": 4
 },
 "nbformat": 4,
 "nbformat_minor": 2
}

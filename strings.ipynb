{
 "cells": [
  {
   "cell_type": "code",
   "execution_count": 1,
   "metadata": {},
   "outputs": [
    {
     "name": "stdout",
     "output_type": "stream",
     "text": [
      "hello\n"
     ]
    }
   ],
   "source": [
    "my_string = 'hello'\n",
    "print(my_string)"
   ]
  },
  {
   "cell_type": "code",
   "execution_count": 2,
   "metadata": {},
   "outputs": [
    {
     "name": "stdout",
     "output_type": "stream",
     "text": [
      "hello\n"
     ]
    }
   ],
   "source": [
    "my_string = \"hello\"\n",
    "print(my_string)"
   ]
  },
  {
   "cell_type": "code",
   "execution_count": 1,
   "metadata": {},
   "outputs": [
    {
     "name": "stdout",
     "output_type": "stream",
     "text": [
      "Hello python\n"
     ]
    }
   ],
   "source": [
    "### q1\n",
    "str1 = \"Hello python\"\n",
    "print(str1)"
   ]
  },
  {
   "cell_type": "code",
   "execution_count": 4,
   "metadata": {},
   "outputs": [
    {
     "name": "stdout",
     "output_type": "stream",
     "text": [
      "Length of the input string is: ,counter\n"
     ]
    }
   ],
   "source": [
    "###q2\n",
    "str = input(\"enter a string: \")\n",
    "counter = 0\n",
    "for s in str:\n",
    "    counter = counter+1\n",
    "print(\"Length of the input string is: ,counter\")"
   ]
  },
  {
   "cell_type": "code",
   "execution_count": 5,
   "metadata": {},
   "outputs": [
    {
     "name": "stdout",
     "output_type": "stream",
     "text": [
      "great\n"
     ]
    }
   ],
   "source": [
    "###q3\n",
    "my_str = \"python is great\"\n",
    "b = len(my_str)\n",
    "slice1 = my_str[10:b]\n",
    "print(slice1)"
   ]
  },
  {
   "cell_type": "code",
   "execution_count": 3,
   "metadata": {},
   "outputs": [
    {
     "name": "stdout",
     "output_type": "stream",
     "text": [
      "hello\n"
     ]
    }
   ],
   "source": [
    "my_string = '''hello'''\n",
    "print(my_string)"
   ]
  },
  {
   "cell_type": "code",
   "execution_count": null,
   "metadata": {},
   "outputs": [],
   "source": [
    "### q4\n",
    "i = 0\n",
    "q4 = \"python is everywhere\"\n",
    "new = \"\"\n",
    "new = q4.split()\n",
    "print(new)\n",
    "for d in range(3):\n",
    " str = new[i]+ "
   ]
  },
  {
   "cell_type": "code",
   "execution_count": 4,
   "metadata": {},
   "outputs": [
    {
     "name": "stdout",
     "output_type": "stream",
     "text": [
      "hello, welcome tot the world of python\n"
     ]
    }
   ],
   "source": [
    "my_string = '''hello, welcome tot the world of python'''\n",
    "print(my_string)"
   ]
  },
  {
   "cell_type": "code",
   "execution_count": 5,
   "metadata": {},
   "outputs": [
    {
     "name": "stdout",
     "output_type": "stream",
     "text": [
      "str =  digipodium\n"
     ]
    }
   ],
   "source": [
    "str = 'digipodium'\n",
    "print('str = ', str)\n"
   ]
  },
  {
   "cell_type": "code",
   "execution_count": 6,
   "metadata": {},
   "outputs": [
    {
     "name": "stdout",
     "output_type": "stream",
     "text": [
      "str[1]=  i\n"
     ]
    }
   ],
   "source": [
    "print('str[1]= ',str[1])"
   ]
  },
  {
   "cell_type": "code",
   "execution_count": 7,
   "metadata": {},
   "outputs": [
    {
     "data": {
      "text/plain": [
       "18"
      ]
     },
     "execution_count": 7,
     "metadata": {},
     "output_type": "execute_result"
    }
   ],
   "source": [
    "word = 'stormlight Archive'\n",
    "len(word)"
   ]
  },
  {
   "cell_type": "code",
   "execution_count": 10,
   "metadata": {},
   "outputs": [
    {
     "name": "stdout",
     "output_type": "stream",
     "text": [
      "podium\n"
     ]
    }
   ],
   "source": [
    "s = 'digipodium'\n",
    "slice1 = s[4:10]\n",
    "print(slice1)"
   ]
  },
  {
   "cell_type": "code",
   "execution_count": 11,
   "metadata": {},
   "outputs": [
    {
     "data": {
      "text/plain": [
       "'develop'"
      ]
     },
     "execution_count": 11,
     "metadata": {},
     "output_type": "execute_result"
    }
   ],
   "source": [
    "x = 'developer'\n",
    "x[ :-2]"
   ]
  },
  {
   "cell_type": "code",
   "execution_count": 14,
   "metadata": {},
   "outputs": [
    {
     "ename": "SyntaxError",
     "evalue": "invalid syntax (1900080390.py, line 2)",
     "output_type": "error",
     "traceback": [
      "\u001b[1;36m  Input \u001b[1;32mIn [14]\u001b[1;36m\u001b[0m\n\u001b[1;33m    y = [4 : ]\u001b[0m\n\u001b[1;37m           ^\u001b[0m\n\u001b[1;31mSyntaxError\u001b[0m\u001b[1;31m:\u001b[0m invalid syntax\n"
     ]
    }
   ],
   "source": [
    "y = 'excellent'\n",
    "y = [4 : ]"
   ]
  },
  {
   "cell_type": "code",
   "execution_count": 15,
   "metadata": {},
   "outputs": [
    {
     "name": "stdout",
     "output_type": "stream",
     "text": [
      "A\n",
      "ऽ\n"
     ]
    }
   ],
   "source": [
    "x = chr(65)\n",
    "print (x)\n",
    "x = chr(2365)\n",
    "print (x)\n"
   ]
  },
  {
   "cell_type": "code",
   "execution_count": 1,
   "metadata": {},
   "outputs": [],
   "source": [
    "## string contatacetation\n",
    "##string duplication (clonig) using str *"
   ]
  },
  {
   "cell_type": "code",
   "execution_count": 2,
   "metadata": {},
   "outputs": [
    {
     "name": "stdout",
     "output_type": "stream",
     "text": [
      "-----------\n",
      "hello world\n",
      "-----------\n"
     ]
    }
   ],
   "source": [
    "print('-'* 11)\n",
    "print('hello world')\n",
    "print('-'* 11)"
   ]
  },
  {
   "cell_type": "code",
   "execution_count": 4,
   "metadata": {},
   "outputs": [
    {
     "data": {
      "text/plain": [
       "['h', 'e', 'l', 'l', 'o', ' ', 'w', 'o', 'r', 'l', 'd']"
      ]
     },
     "execution_count": 4,
     "metadata": {},
     "output_type": "execute_result"
    }
   ],
   "source": [
    "w ='hello world'\n",
    "list(w)"
   ]
  },
  {
   "cell_type": "code",
   "execution_count": 3,
   "metadata": {},
   "outputs": [
    {
     "data": {
      "text/plain": [
       "'\\nhare and the tortoise. there was once a hare who was friends with a tortoise. ...\\nthe dog and the bone. ...\\nthe thirsty crow. ...\\nlazy john. ...\\nthe fox and the grapes. ...\\nthe ant and the grasshopper. ...\\nthe boy who cried wolf. ...\\nthe ugly duckling.'"
      ]
     },
     "execution_count": 3,
     "metadata": {},
     "output_type": "execute_result"
    }
   ],
   "source": [
    "story.capitalize()"
   ]
  },
  {
   "cell_type": "code",
   "execution_count": null,
   "metadata": {},
   "outputs": [],
   "source": []
  },
  {
   "cell_type": "code",
   "execution_count": 5,
   "metadata": {},
   "outputs": [
    {
     "data": {
      "text/plain": [
       "'hlowrd'"
      ]
     },
     "execution_count": 5,
     "metadata": {},
     "output_type": "execute_result"
    }
   ],
   "source": [
    "w[::2]"
   ]
  },
  {
   "cell_type": "code",
   "execution_count": 4,
   "metadata": {},
   "outputs": [
    {
     "data": {
      "text/plain": [
       "'Hare and the tortoise. there was once a hare who was friends with a tortoise. ...\\nthe dog and the bone. ...\\nthe thirsty crow. ...\\nlazy john. ...\\nthe fox and the grapes. ...\\nthe ant and the grasshopper. ...\\nthe boy who cried wolf. ...\\nthe ugly duckling.'"
      ]
     },
     "execution_count": 4,
     "metadata": {},
     "output_type": "execute_result"
    }
   ],
   "source": [
    "story.strip().capitalize()"
   ]
  },
  {
   "cell_type": "code",
   "execution_count": 6,
   "metadata": {},
   "outputs": [
    {
     "data": {
      "text/plain": [
       "'\\nhARE AND THE tORTOISE. tHERE WAS ONCE A HARE WHO WAS FRIENDS WITH A TORTOISE. ...\\ntHE dOG AND THE bONE. ...\\ntHE tHIRSTY cROW. ...\\nlAZY jOHN. ...\\ntHE fOX AND tHE gRAPES. ...\\ntHE aNT AND tHE gRASSHOPPER. ...\\ntHE bOY wHO cRIED wOLF. ...\\ntHE uGLY dUCKLING.'"
      ]
     },
     "execution_count": 6,
     "metadata": {},
     "output_type": "execute_result"
    }
   ],
   "source": [
    "story.swapcase()"
   ]
  },
  {
   "cell_type": "code",
   "execution_count": 6,
   "metadata": {},
   "outputs": [
    {
     "data": {
      "text/plain": [
       "'el ol'"
      ]
     },
     "execution_count": 6,
     "metadata": {},
     "output_type": "execute_result"
    }
   ],
   "source": [
    "w[1::2]"
   ]
  },
  {
   "cell_type": "code",
   "execution_count": 7,
   "metadata": {},
   "outputs": [
    {
     "data": {
      "text/plain": [
       "'dlrow olleh'"
      ]
     },
     "execution_count": 7,
     "metadata": {},
     "output_type": "execute_result"
    }
   ],
   "source": [
    "w[::-1]"
   ]
  },
  {
   "cell_type": "code",
   "execution_count": 8,
   "metadata": {},
   "outputs": [
    {
     "data": {
      "text/plain": [
       "'\\nhare and the tortoise. there was once a hare who was friends with a tortoise. ...\\nthe dog and the bone. ...\\nthe thirsty crow. ...\\nlazy john. ...\\nthe fox and the grapes. ...\\nthe ant and the grasshopper. ...\\nthe boy who cried wolf. ...\\nthe ugly duckling.'"
      ]
     },
     "execution_count": 8,
     "metadata": {},
     "output_type": "execute_result"
    }
   ],
   "source": [
    "story.casefold()"
   ]
  },
  {
   "cell_type": "code",
   "execution_count": 9,
   "metadata": {},
   "outputs": [
    {
     "name": "stdout",
     "output_type": "stream",
     "text": [
      "             l \n",
      "           l l \n",
      "         l l l \n",
      "       l l l l \n",
      "     l l l l l \n"
     ]
    }
   ],
   "source": [
    "for i in range(1,6):\n",
    "    print((i * 'l ').rjust(15))"
   ]
  },
  {
   "cell_type": "code",
   "execution_count": 12,
   "metadata": {},
   "outputs": [
    {
     "name": "stdout",
     "output_type": "stream",
     "text": [
      "              o\n",
      "             oo\n",
      "            ooo\n",
      "           oooo\n",
      "          ooooo\n"
     ]
    }
   ],
   "source": [
    "for i in range(1,6):\n",
    "    print(('o' * i).rjust(15))"
   ]
  },
  {
   "cell_type": "code",
   "execution_count": null,
   "metadata": {},
   "outputs": [],
   "source": []
  },
  {
   "cell_type": "code",
   "execution_count": 4,
   "metadata": {},
   "outputs": [
    {
     "name": "stdout",
     "output_type": "stream",
     "text": [
      "XXXXXXXXXXXXXXXXXXXX0XXXXXXXXXXXXXXXXXXXX\n",
      "XXXXXXXXXXXXXXXXXXX***XXXXXXXXXXXXXXXXXXX\n",
      "XXXXXXXXXXXXXXXXXX00000XXXXXXXXXXXXXXXXXX\n",
      "XXXXXXXXXXXXXXXXX*******XXXXXXXXXXXXXXXXX\n",
      "XXXXXXXXXXXXXXXX000000000XXXXXXXXXXXXXXXX\n",
      "XXXXXXXXXXXXXXX***********XXXXXXXXXXXXXXX\n",
      "XXXXXXXXXXXXXX0000000000000XXXXXXXXXXXXXX\n"
     ]
    }
   ],
   "source": [
    "for i,v in enumerate(range(1,15,2)):\n",
    "    if i % 2 == 0:\n",
    "        print((v * '0').center(41,'X'))\n",
    "    else:\n",
    "        print((v * '*').center(41,'X'))\n",
    "    "
   ]
  },
  {
   "cell_type": "code",
   "execution_count": 27,
   "metadata": {},
   "outputs": [],
   "source": [
    "wordlist = ['Dark','Chochlate','is','good','for','your','health']"
   ]
  },
  {
   "cell_type": "code",
   "execution_count": 28,
   "metadata": {},
   "outputs": [
    {
     "data": {
      "text/plain": [
       "'Dark Chochlate is good for your health'"
      ]
     },
     "execution_count": 28,
     "metadata": {},
     "output_type": "execute_result"
    }
   ],
   "source": [
    "' '.join(wordlist)"
   ]
  },
  {
   "cell_type": "code",
   "execution_count": 31,
   "metadata": {},
   "outputs": [
    {
     "data": {
      "text/plain": [
       "'\\nHare xxxtentacion the Tortoise. There was once a hare who was friends with a tortoise. ...\\nThe Dog xxxtentacion the Bone. ...\\nThe Thirsty Crow. ...\\nLazy John. ...\\nThe Fox xxxtentacion The Grapes. ...\\nThe Ant xxxtentacion The Grasshopper. ...\\nThe Boy Who Cried Wolf. ...\\nThe Ugly Duckling.'"
      ]
     },
     "execution_count": 31,
     "metadata": {},
     "output_type": "execute_result"
    }
   ],
   "source": [
    "story.replace('and','xxxtentacion')"
   ]
  },
  {
   "cell_type": "code",
   "execution_count": 32,
   "metadata": {},
   "outputs": [
    {
     "data": {
      "text/plain": [
       "'\\nHare and the Tortoise!! There was once a hare who was friends with a tortoise!! !!..\\nThe Dog and the Bone. ...\\nThe Thirsty Crow. ...\\nLazy John. ...\\nThe Fox and The Grapes. ...\\nThe Ant and The Grasshopper. ...\\nThe Boy Who Cried Wolf. ...\\nThe Ugly Duckling.'"
      ]
     },
     "execution_count": 32,
     "metadata": {},
     "output_type": "execute_result"
    }
   ],
   "source": [
    "story.replace('.','!!',3)"
   ]
  },
  {
   "cell_type": "code",
   "execution_count": 33,
   "metadata": {},
   "outputs": [
    {
     "data": {
      "text/plain": [
       "'\\nHare and the Tortoise. There was once a hare who was friends with a tortoise. ...\\nThe Dog and the Bone. ...\\nThe Thirsty Crow. ...\\nLazy John. ...\\nThe Fox and The Grapes. ...\\nThe Ant and The Grasshopper. ...\\nThe Boy Who Cried Wolf. ...\\nThe Ugly Duckling.'"
      ]
     },
     "execution_count": 33,
     "metadata": {},
     "output_type": "execute_result"
    }
   ],
   "source": [
    "story"
   ]
  },
  {
   "cell_type": "code",
   "execution_count": 2,
   "metadata": {},
   "outputs": [
    {
     "data": {
      "text/plain": [
       "['Hare',\n",
       " 'and',\n",
       " 'the',\n",
       " 'Tortoise.',\n",
       " 'There',\n",
       " 'was',\n",
       " 'once',\n",
       " 'a',\n",
       " 'hare',\n",
       " 'who',\n",
       " 'was',\n",
       " 'friends',\n",
       " 'with',\n",
       " 'a',\n",
       " 'tortoise.',\n",
       " '...',\n",
       " 'The',\n",
       " 'Dog',\n",
       " 'and',\n",
       " 'the',\n",
       " 'Bone.',\n",
       " '...',\n",
       " 'The',\n",
       " 'Thirsty',\n",
       " 'Crow.',\n",
       " '...',\n",
       " 'Lazy',\n",
       " 'John.',\n",
       " '...',\n",
       " 'The',\n",
       " 'Fox',\n",
       " 'and',\n",
       " 'The',\n",
       " 'Grapes.',\n",
       " '...',\n",
       " 'The',\n",
       " 'Ant',\n",
       " 'and',\n",
       " 'The',\n",
       " 'Grasshopper.',\n",
       " '...',\n",
       " 'The',\n",
       " 'Boy',\n",
       " 'Who',\n",
       " 'Cried',\n",
       " 'Wolf.',\n",
       " '...',\n",
       " 'The',\n",
       " 'Ugly',\n",
       " 'Duckling.']"
      ]
     },
     "execution_count": 2,
     "metadata": {},
     "output_type": "execute_result"
    }
   ],
   "source": [
    "story = \"\"\"\n",
    "Hare and the Tortoise. There was once a hare who was friends with a tortoise. ...\n",
    "The Dog and the Bone. ...\n",
    "The Thirsty Crow. ...\n",
    "Lazy John. ...\n",
    "The Fox and The Grapes. ...\n",
    "The Ant and The Grasshopper. ...\n",
    "The Boy Who Cried Wolf. ...\n",
    "The Ugly Duckling.\"\"\"\n",
    "len(story)\n",
    "story.split()"
   ]
  },
  {
   "cell_type": "code",
   "execution_count": 22,
   "metadata": {},
   "outputs": [
    {
     "name": "stdout",
     "output_type": "stream",
     "text": [
      "50\n"
     ]
    }
   ],
   "source": [
    "words = story.split()\n",
    "print(len(words))"
   ]
  },
  {
   "cell_type": "code",
   "execution_count": 26,
   "metadata": {},
   "outputs": [
    {
     "data": {
      "text/plain": [
       "['\\nHare and the Tortoise',\n",
       " ' There was once a hare who was friends with a tortoise',\n",
       " ' ',\n",
       " '',\n",
       " '',\n",
       " '\\nThe Dog and the Bone',\n",
       " ' ',\n",
       " '',\n",
       " '',\n",
       " '\\nThe Thirsty Crow',\n",
       " ' ',\n",
       " '',\n",
       " '',\n",
       " '\\nLazy John',\n",
       " ' ',\n",
       " '',\n",
       " '',\n",
       " '\\nThe Fox and The Grapes',\n",
       " ' ',\n",
       " '',\n",
       " '',\n",
       " '\\nThe Ant and The Grasshopper',\n",
       " ' ',\n",
       " '',\n",
       " '',\n",
       " '\\nThe Boy Who Cried Wolf',\n",
       " ' ',\n",
       " '',\n",
       " '',\n",
       " '\\nThe Ugly Duckling',\n",
       " '']"
      ]
     },
     "execution_count": 26,
     "metadata": {},
     "output_type": "execute_result"
    }
   ],
   "source": [
    "story.split('.')"
   ]
  },
  {
   "cell_type": "code",
   "execution_count": 3,
   "metadata": {},
   "outputs": [
    {
     "name": "stdout",
     "output_type": "stream",
     "text": [
      "Object `split` not found.\n"
     ]
    }
   ],
   "source": [
    "help split?"
   ]
  },
  {
   "cell_type": "code",
   "execution_count": null,
   "metadata": {},
   "outputs": [],
   "source": [
    "help split"
   ]
  },
  {
   "cell_type": "code",
   "execution_count": 13,
   "metadata": {},
   "outputs": [
    {
     "name": "stdout",
     "output_type": "stream",
     "text": [
      "              T               \n",
      "             TTT              \n",
      "            TTTTT             \n",
      "           TTTTTTT            \n",
      "          TTTTTTTTT           \n",
      "         TTTTTTTTTTT          \n",
      "        TTTTTTTTTTTTT         \n"
     ]
    }
   ],
   "source": [
    "for i in range(1,15,2):\n",
    "    print((i * 'T').center(30))"
   ]
  },
  {
   "cell_type": "code",
   "execution_count": 9,
   "metadata": {},
   "outputs": [
    {
     "data": {
      "text/plain": [
       "False"
      ]
     },
     "execution_count": 9,
     "metadata": {},
     "output_type": "execute_result"
    }
   ],
   "source": [
    "msg = input('enter anything')\n",
    "msg.isalpha()"
   ]
  },
  {
   "cell_type": "code",
   "execution_count": 10,
   "metadata": {},
   "outputs": [
    {
     "name": "stdout",
     "output_type": "stream",
     "text": [
      "valid number\n"
     ]
    }
   ],
   "source": [
    "msg = input('enter a number:')\n",
    "if msg.isnumeric():\n",
    "    print('valid number')\n",
    "else:\n",
    "    print('invalid number')"
   ]
  },
  {
   "cell_type": "code",
   "execution_count": 12,
   "metadata": {},
   "outputs": [
    {
     "data": {
      "text/plain": [
       "True"
      ]
     },
     "execution_count": 12,
     "metadata": {},
     "output_type": "execute_result"
    }
   ],
   "source": [
    "msg = input('enter anything:')\n",
    "msg.isalnum()"
   ]
  },
  {
   "cell_type": "code",
   "execution_count": null,
   "metadata": {},
   "outputs": [],
   "source": [
    "### remove all vowels from a string entred by the user"
   ]
  },
  {
   "cell_type": "code",
   "execution_count": 16,
   "metadata": {},
   "outputs": [
    {
     "name": "stdout",
     "output_type": "stream",
     "text": [
      "under this cnvs he hides  drem\n",
      "undr this cnvs h hids  drm\n",
      "undr ths cnvs h hds  drm\n",
      "undr ths cnvs h hds  drm\n",
      "ndr ths cnvs h hds  drm\n"
     ]
    }
   ],
   "source": [
    "vowels = 'aeiou'\n",
    "message = 'under this canvas he hides a dream'\n",
    "for vowel in vowels:\n",
    "    message = message.replace(vowel,'')\n",
    "    print(message)"
   ]
  },
  {
   "cell_type": "markdown",
   "metadata": {},
   "source": [
    "## count all vowels frm a sting entered by user\n"
   ]
  },
  {
   "cell_type": "code",
   "execution_count": 17,
   "metadata": {},
   "outputs": [
    {
     "name": "stdout",
     "output_type": "stream",
     "text": [
      "4 a\n",
      "4 e\n",
      "2 i\n",
      "0 o\n",
      "1 u\n",
      "0 A\n",
      "0 E\n",
      "0 I\n",
      "0 O\n",
      "0 U\n"
     ]
    }
   ],
   "source": [
    "vowels = 'aeiouAEIOU'\n",
    "message = ('under this canvas he hides a dream')\n",
    "for vowel in vowels:\n",
    "    print(message.count(vowel),vowel)"
   ]
  },
  {
   "cell_type": "code",
   "execution_count": null,
   "metadata": {},
   "outputs": [],
   "source": [
    "## for self programs"
   ]
  },
  {
   "cell_type": "code",
   "execution_count": 1,
   "metadata": {},
   "outputs": [
    {
     "ename": "SyntaxError",
     "evalue": "invalid syntax (721449519.py, line 1)",
     "output_type": "error",
     "traceback": [
      "\u001b[1;36m  Input \u001b[1;32mIn [1]\u001b[1;36m\u001b[0m\n\u001b[1;33m    checkString (str):\u001b[0m\n\u001b[1;37m                      ^\u001b[0m\n\u001b[1;31mSyntaxError\u001b[0m\u001b[1;31m:\u001b[0m invalid syntax\n"
     ]
    }
   ],
   "source": [
    "checkString (str):\n",
    "flag_l = False\n",
    "flag_n = False\n",
    "for i in str :\n",
    "    if i.isalpha():\n",
    "        flag_l = True\n",
    "    if i.isdigit():\n",
    "        flag_n = True\n",
    "        "
   ]
  }
 ],
 "metadata": {
  "interpreter": {
   "hash": "19d1d53a962d236aa061289c2ac16dc8e6d9648c89fe79f459ae9a3493bc67b4"
  },
  "kernelspec": {
   "display_name": "Python 3.9.12 ('base')",
   "language": "python",
   "name": "python3"
  },
  "language_info": {
   "codemirror_mode": {
    "name": "ipython",
    "version": 3
   },
   "file_extension": ".py",
   "mimetype": "text/x-python",
   "name": "python",
   "nbconvert_exporter": "python",
   "pygments_lexer": "ipython3",
   "version": "3.9.12"
  },
  "orig_nbformat": 4
 },
 "nbformat": 4,
 "nbformat_minor": 2
}

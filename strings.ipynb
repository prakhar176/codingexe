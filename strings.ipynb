{
 "cells": [
  {
   "cell_type": "code",
   "execution_count": 1,
   "metadata": {},
   "outputs": [
    {
     "name": "stdout",
     "output_type": "stream",
     "text": [
      "hello\n"
     ]
    }
   ],
   "source": [
    "my_string = 'hello'\n",
    "print(my_string)"
   ]
  },
  {
   "cell_type": "code",
   "execution_count": 2,
   "metadata": {},
   "outputs": [
    {
     "name": "stdout",
     "output_type": "stream",
     "text": [
      "hello\n"
     ]
    }
   ],
   "source": [
    "my_string = \"hello\"\n",
    "print(my_string)"
   ]
  },
  {
   "cell_type": "code",
   "execution_count": 3,
   "metadata": {},
   "outputs": [
    {
     "name": "stdout",
     "output_type": "stream",
     "text": [
      "hello\n"
     ]
    }
   ],
   "source": [
    "my_string = '''hello'''\n",
    "print(my_string)"
   ]
  },
  {
   "cell_type": "code",
   "execution_count": 4,
   "metadata": {},
   "outputs": [
    {
     "name": "stdout",
     "output_type": "stream",
     "text": [
      "hello, welcome tot the world of python\n"
     ]
    }
   ],
   "source": [
    "my_string = '''hello, welcome tot the world of python'''\n",
    "print(my_string)"
   ]
  },
  {
   "cell_type": "code",
   "execution_count": 5,
   "metadata": {},
   "outputs": [
    {
     "name": "stdout",
     "output_type": "stream",
     "text": [
      "str =  digipodium\n"
     ]
    }
   ],
   "source": [
    "str = 'digipodium'\n",
    "print('str = ', str)\n"
   ]
  },
  {
   "cell_type": "code",
   "execution_count": 6,
   "metadata": {},
   "outputs": [
    {
     "name": "stdout",
     "output_type": "stream",
     "text": [
      "str[1]=  i\n"
     ]
    }
   ],
   "source": [
    "print('str[1]= ',str[1])"
   ]
  },
  {
   "cell_type": "code",
   "execution_count": 7,
   "metadata": {},
   "outputs": [
    {
     "data": {
      "text/plain": [
       "18"
      ]
     },
     "execution_count": 7,
     "metadata": {},
     "output_type": "execute_result"
    }
   ],
   "source": [
    "word = 'stormlight Archive'\n",
    "len(word)"
   ]
  },
  {
   "cell_type": "code",
   "execution_count": 10,
   "metadata": {},
   "outputs": [
    {
     "name": "stdout",
     "output_type": "stream",
     "text": [
      "podium\n"
     ]
    }
   ],
   "source": [
    "s = 'digipodium'\n",
    "slice1 = s[4:10]\n",
    "print(slice1)"
   ]
  },
  {
   "cell_type": "code",
   "execution_count": 11,
   "metadata": {},
   "outputs": [
    {
     "data": {
      "text/plain": [
       "'develop'"
      ]
     },
     "execution_count": 11,
     "metadata": {},
     "output_type": "execute_result"
    }
   ],
   "source": [
    "x = 'developer'\n",
    "x[ :-2]"
   ]
  },
  {
   "cell_type": "code",
   "execution_count": 14,
   "metadata": {},
   "outputs": [
    {
     "ename": "SyntaxError",
     "evalue": "invalid syntax (1900080390.py, line 2)",
     "output_type": "error",
     "traceback": [
      "\u001b[1;36m  Input \u001b[1;32mIn [14]\u001b[1;36m\u001b[0m\n\u001b[1;33m    y = [4 : ]\u001b[0m\n\u001b[1;37m           ^\u001b[0m\n\u001b[1;31mSyntaxError\u001b[0m\u001b[1;31m:\u001b[0m invalid syntax\n"
     ]
    }
   ],
   "source": [
    "y = 'excellent'\n",
    "y = [4 : ]"
   ]
  },
  {
   "cell_type": "code",
   "execution_count": 15,
   "metadata": {},
   "outputs": [
    {
     "name": "stdout",
     "output_type": "stream",
     "text": [
      "A\n",
      "ऽ\n"
     ]
    }
   ],
   "source": [
    "x = chr(65)\n",
    "print (x)\n",
    "x = chr(2365)\n",
    "print (x)\n"
   ]
  },
  {
   "cell_type": "code",
   "execution_count": 1,
   "metadata": {},
   "outputs": [],
   "source": [
    "## string contatacetation\n",
    "##string duplication (clonig) using str *"
   ]
  },
  {
   "cell_type": "code",
   "execution_count": 2,
   "metadata": {},
   "outputs": [
    {
     "name": "stdout",
     "output_type": "stream",
     "text": [
      "-----------\n",
      "hello world\n",
      "-----------\n"
     ]
    }
   ],
   "source": [
    "print('-'* 11)\n",
    "print('hello world')\n",
    "print('-'* 11)"
   ]
  },
  {
   "cell_type": "code",
   "execution_count": 4,
   "metadata": {},
   "outputs": [
    {
     "data": {
      "text/plain": [
       "['h', 'e', 'l', 'l', 'o', ' ', 'w', 'o', 'r', 'l', 'd']"
      ]
     },
     "execution_count": 4,
     "metadata": {},
     "output_type": "execute_result"
    }
   ],
   "source": [
    "w ='hello world'\n",
    "list(w)"
   ]
  },
  {
   "cell_type": "code",
   "execution_count": 5,
   "metadata": {},
   "outputs": [
    {
     "data": {
      "text/plain": [
       "'hlowrd'"
      ]
     },
     "execution_count": 5,
     "metadata": {},
     "output_type": "execute_result"
    }
   ],
   "source": [
    "w[::2]"
   ]
  },
  {
   "cell_type": "code",
   "execution_count": 6,
   "metadata": {},
   "outputs": [
    {
     "data": {
      "text/plain": [
       "'el ol'"
      ]
     },
     "execution_count": 6,
     "metadata": {},
     "output_type": "execute_result"
    }
   ],
   "source": [
    "w[1::2]"
   ]
  },
  {
   "cell_type": "code",
   "execution_count": 7,
   "metadata": {},
   "outputs": [
    {
     "data": {
      "text/plain": [
       "'dlrow olleh'"
      ]
     },
     "execution_count": 7,
     "metadata": {},
     "output_type": "execute_result"
    }
   ],
   "source": [
    "w[::-1]"
   ]
  },
  {
   "cell_type": "code",
   "execution_count": 9,
   "metadata": {},
   "outputs": [
    {
     "name": "stdout",
     "output_type": "stream",
     "text": [
      "             l \n",
      "           l l \n",
      "         l l l \n",
      "       l l l l \n",
      "     l l l l l \n"
     ]
    }
   ],
   "source": [
    "for i in range(1,6):\n",
    "    print((i * 'l ').rjust(15))"
   ]
  },
  {
   "cell_type": "code",
   "execution_count": 12,
   "metadata": {},
   "outputs": [
    {
     "name": "stdout",
     "output_type": "stream",
     "text": [
      "              o\n",
      "             oo\n",
      "            ooo\n",
      "           oooo\n",
      "          ooooo\n"
     ]
    }
   ],
   "source": [
    "for i in range(1,6):\n",
    "    print(('o' * i).rjust(15))"
   ]
  },
  {
   "cell_type": "code",
   "execution_count": null,
   "metadata": {},
   "outputs": [],
   "source": []
  },
  {
   "cell_type": "code",
   "execution_count": 17,
   "metadata": {},
   "outputs": [
    {
     "name": "stdout",
     "output_type": "stream",
     "text": [
      "XXXXXXXXXXXXXXXXXXXX0XXXXXXXXXXXXXXXXXXXX\n",
      "XXXXXXXXXXXXXXXXXXX***XXXXXXXXXXXXXXXXXXX\n",
      "XXXXXXXXXXXXXXXXXX00000XXXXXXXXXXXXXXXXXX\n",
      "XXXXXXXXXXXXXXXXX*******XXXXXXXXXXXXXXXXX\n",
      "XXXXXXXXXXXXXXXX000000000XXXXXXXXXXXXXXXX\n",
      "XXXXXXXXXXXXXXX***********XXXXXXXXXXXXXXX\n",
      "XXXXXXXXXXXXXX0000000000000XXXXXXXXXXXXXX\n"
     ]
    }
   ],
   "source": [
    "for i,v in enumerate(range(1,15,2)):\n",
    "    if i % 2 == 0:\n",
    "        print((v * '0').center(41,'X'))\n",
    "    else:\n",
    "        print((v * '*').center(41,'X'))\n",
    "    "
   ]
  },
  {
   "cell_type": "code",
   "execution_count": 27,
   "metadata": {},
   "outputs": [],
   "source": [
    "wordlist = ['Dark','Chochlate','is','good','for','your','health']"
   ]
  },
  {
   "cell_type": "code",
   "execution_count": 28,
   "metadata": {},
   "outputs": [
    {
     "data": {
      "text/plain": [
       "'Dark Chochlate is good for your health'"
      ]
     },
     "execution_count": 28,
     "metadata": {},
     "output_type": "execute_result"
    }
   ],
   "source": [
    "' '.join(wordlist)"
   ]
  },
  {
   "cell_type": "code",
   "execution_count": 31,
   "metadata": {},
   "outputs": [
    {
     "data": {
      "text/plain": [
       "'\\nHare xxxtentacion the Tortoise. There was once a hare who was friends with a tortoise. ...\\nThe Dog xxxtentacion the Bone. ...\\nThe Thirsty Crow. ...\\nLazy John. ...\\nThe Fox xxxtentacion The Grapes. ...\\nThe Ant xxxtentacion The Grasshopper. ...\\nThe Boy Who Cried Wolf. ...\\nThe Ugly Duckling.'"
      ]
     },
     "execution_count": 31,
     "metadata": {},
     "output_type": "execute_result"
    }
   ],
   "source": [
    "story.replace('and','xxxtentacion')"
   ]
  },
  {
   "cell_type": "code",
   "execution_count": 32,
   "metadata": {},
   "outputs": [
    {
     "data": {
      "text/plain": [
       "'\\nHare and the Tortoise!! There was once a hare who was friends with a tortoise!! !!..\\nThe Dog and the Bone. ...\\nThe Thirsty Crow. ...\\nLazy John. ...\\nThe Fox and The Grapes. ...\\nThe Ant and The Grasshopper. ...\\nThe Boy Who Cried Wolf. ...\\nThe Ugly Duckling.'"
      ]
     },
     "execution_count": 32,
     "metadata": {},
     "output_type": "execute_result"
    }
   ],
   "source": [
    "story.replace('.','!!',3)"
   ]
  },
  {
   "cell_type": "code",
   "execution_count": 33,
   "metadata": {},
   "outputs": [
    {
     "data": {
      "text/plain": [
       "'\\nHare and the Tortoise. There was once a hare who was friends with a tortoise. ...\\nThe Dog and the Bone. ...\\nThe Thirsty Crow. ...\\nLazy John. ...\\nThe Fox and The Grapes. ...\\nThe Ant and The Grasshopper. ...\\nThe Boy Who Cried Wolf. ...\\nThe Ugly Duckling.'"
      ]
     },
     "execution_count": 33,
     "metadata": {},
     "output_type": "execute_result"
    }
   ],
   "source": [
    "story"
   ]
  },
  {
   "cell_type": "code",
   "execution_count": 21,
   "metadata": {},
   "outputs": [
    {
     "data": {
      "text/plain": [
       "['Hare',\n",
       " 'and',\n",
       " 'the',\n",
       " 'Tortoise.',\n",
       " 'There',\n",
       " 'was',\n",
       " 'once',\n",
       " 'a',\n",
       " 'hare',\n",
       " 'who',\n",
       " 'was',\n",
       " 'friends',\n",
       " 'with',\n",
       " 'a',\n",
       " 'tortoise.',\n",
       " '...',\n",
       " 'The',\n",
       " 'Dog',\n",
       " 'and',\n",
       " 'the',\n",
       " 'Bone.',\n",
       " '...',\n",
       " 'The',\n",
       " 'Thirsty',\n",
       " 'Crow.',\n",
       " '...',\n",
       " 'Lazy',\n",
       " 'John.',\n",
       " '...',\n",
       " 'The',\n",
       " 'Fox',\n",
       " 'and',\n",
       " 'The',\n",
       " 'Grapes.',\n",
       " '...',\n",
       " 'The',\n",
       " 'Ant',\n",
       " 'and',\n",
       " 'The',\n",
       " 'Grasshopper.',\n",
       " '...',\n",
       " 'The',\n",
       " 'Boy',\n",
       " 'Who',\n",
       " 'Cried',\n",
       " 'Wolf.',\n",
       " '...',\n",
       " 'The',\n",
       " 'Ugly',\n",
       " 'Duckling.']"
      ]
     },
     "execution_count": 21,
     "metadata": {},
     "output_type": "execute_result"
    }
   ],
   "source": [
    "story = \"\"\"\n",
    "Hare and the Tortoise. There was once a hare who was friends with a tortoise. ...\n",
    "The Dog and the Bone. ...\n",
    "The Thirsty Crow. ...\n",
    "Lazy John. ...\n",
    "The Fox and The Grapes. ...\n",
    "The Ant and The Grasshopper. ...\n",
    "The Boy Who Cried Wolf. ...\n",
    "The Ugly Duckling.\"\"\"\n",
    "len(story)\n",
    "story.split()"
   ]
  },
  {
   "cell_type": "code",
   "execution_count": 22,
   "metadata": {},
   "outputs": [
    {
     "name": "stdout",
     "output_type": "stream",
     "text": [
      "50\n"
     ]
    }
   ],
   "source": [
    "words = story.split()\n",
    "print(len(words))"
   ]
  },
  {
   "cell_type": "code",
   "execution_count": 26,
   "metadata": {},
   "outputs": [
    {
     "data": {
      "text/plain": [
       "['\\nHare and the Tortoise',\n",
       " ' There was once a hare who was friends with a tortoise',\n",
       " ' ',\n",
       " '',\n",
       " '',\n",
       " '\\nThe Dog and the Bone',\n",
       " ' ',\n",
       " '',\n",
       " '',\n",
       " '\\nThe Thirsty Crow',\n",
       " ' ',\n",
       " '',\n",
       " '',\n",
       " '\\nLazy John',\n",
       " ' ',\n",
       " '',\n",
       " '',\n",
       " '\\nThe Fox and The Grapes',\n",
       " ' ',\n",
       " '',\n",
       " '',\n",
       " '\\nThe Ant and The Grasshopper',\n",
       " ' ',\n",
       " '',\n",
       " '',\n",
       " '\\nThe Boy Who Cried Wolf',\n",
       " ' ',\n",
       " '',\n",
       " '',\n",
       " '\\nThe Ugly Duckling',\n",
       " '']"
      ]
     },
     "execution_count": 26,
     "metadata": {},
     "output_type": "execute_result"
    }
   ],
   "source": [
    "story.split('.')"
   ]
  },
  {
   "cell_type": "code",
   "execution_count": 13,
   "metadata": {},
   "outputs": [
    {
     "name": "stdout",
     "output_type": "stream",
     "text": [
      "              T               \n",
      "             TTT              \n",
      "            TTTTT             \n",
      "           TTTTTTT            \n",
      "          TTTTTTTTT           \n",
      "         TTTTTTTTTTT          \n",
      "        TTTTTTTTTTTTT         \n"
     ]
    }
   ],
   "source": [
    "for i in range(1,15,2):\n",
    "    print((i * 'T').center(30))"
   ]
  },
  {
   "cell_type": "code",
   "execution_count": 16,
   "metadata": {},
   "outputs": [
    {
     "name": "stdout",
     "output_type": "stream",
     "text": [
      "\u001b[1;31mSignature:\u001b[0m \u001b[0mw\u001b[0m\u001b[1;33m.\u001b[0m\u001b[0mcenter\u001b[0m\u001b[1;33m(\u001b[0m\u001b[0mwidth\u001b[0m\u001b[1;33m,\u001b[0m \u001b[0mfillchar\u001b[0m\u001b[1;33m=\u001b[0m\u001b[1;34m' '\u001b[0m\u001b[1;33m,\u001b[0m \u001b[1;33m/\u001b[0m\u001b[1;33m)\u001b[0m\u001b[1;33m\u001b[0m\u001b[1;33m\u001b[0m\u001b[0m\n",
      "\u001b[1;31mDocstring:\u001b[0m\n",
      "Return a centered string of length width.\n",
      "\n",
      "Padding is done using the specified fill character (default is a space).\n",
      "\u001b[1;31mType:\u001b[0m      builtin_function_or_method\n"
     ]
    }
   ],
   "source": [
    "w.center?\n"
   ]
  }
 ],
 "metadata": {
  "interpreter": {
   "hash": "ecf5722fdaf1897a315d257d89d94520bfcaa453217d5becf09b39e73618b0de"
  },
  "kernelspec": {
   "display_name": "Python 3.9.12 ('base')",
   "language": "python",
   "name": "python3"
  },
  "language_info": {
   "codemirror_mode": {
    "name": "ipython",
    "version": 3
   },
   "file_extension": ".py",
   "mimetype": "text/x-python",
   "name": "python",
   "nbconvert_exporter": "python",
   "pygments_lexer": "ipython3",
   "version": "3.9.12"
  },
  "orig_nbformat": 4
 },
 "nbformat": 4,
 "nbformat_minor": 2
}

{
 "cells": [
  {
   "cell_type": "code",
   "execution_count": null,
   "metadata": {},
   "outputs": [],
   "source": [
    "## q1 create a list of size n , with random numbers from 0 - 100 "
   ]
  },
  {
   "cell_type": "code",
   "execution_count": 2,
   "metadata": {},
   "outputs": [
    {
     "name": "stdout",
     "output_type": "stream",
     "text": [
      "[79, 16, 21, 30, 7, 86, 19, 15, 36, 77, 13, 75, 34, 85, 85, 44, 46, 21, 42, 47, 5, 97, 34, 88, 49, 17, 77, 48, 75, 66, 32, 2, 83]\n"
     ]
    }
   ],
   "source": [
    "from random import randint\n",
    "n = int(input(\"Size of list\"))\n",
    "x = []\n",
    "for i in range (n):\n",
    "    val = randint(1,100)\n",
    "    x.append(val)\n",
    "print(x)"
   ]
  },
  {
   "cell_type": "code",
   "execution_count": null,
   "metadata": {},
   "outputs": [],
   "source": [
    "### calculate the mean , max , min , sum of the list"
   ]
  },
  {
   "cell_type": "code",
   "execution_count": null,
   "metadata": {},
   "outputs": [],
   "source": [
    "total = sum(x)\n",
    "xmin = min(x)\n",
    "xmax = max(x) \n",
    "xmeam = total/len(x)\n",
    "print('Total:, total')\n",
    "  \n"
   ]
  },
  {
   "cell_type": "code",
   "execution_count": null,
   "metadata": {},
   "outputs": [],
   "source": [
    "### generate a list of 25 elements , then create a smaller list of numbers from that list based on the folowig comditions :\n",
    "number that is divisible by 3\n",
    "number that is divisible by 5\n",
    "number that is divisible by both 3 and 5\n"
   ]
  },
  {
   "cell_type": "code",
   "execution_count": 9,
   "metadata": {},
   "outputs": [
    {
     "name": "stdout",
     "output_type": "stream",
     "text": [
      "[1, 2, 3, 4, 5, 6, 7, 8, 9, 10, 11, 12, 13, 14, 15, 16, 17, 18, 19, 20, 21, 22, 23, 24, 25]\n",
      "[3, 5, 6, 9, 10, 12, 15, 18, 20, 21, 24, 25]\n"
     ]
    }
   ],
   "source": [
    "x = list(range(1,26))\n",
    "print(x)\n",
    "xs = []\n",
    "for i in x:\n",
    "    if i % 3 == 0 and i % 5 == 0:\n",
    "        xs.append(i)\n",
    "    elif i % 3 == 0:\n",
    "        xs.append(i)\n",
    "    elif i % 5 == 0:\n",
    "        xs.append(i)\n",
    "print(xs)\n",
    "    "
   ]
  },
  {
   "cell_type": "code",
   "execution_count": null,
   "metadata": {},
   "outputs": [],
   "source": [
    "### remove every 3rd element from the list from a ist of size 25 and print the list"
   ]
  },
  {
   "cell_type": "code",
   "execution_count": 12,
   "metadata": {},
   "outputs": [
    {
     "name": "stdout",
     "output_type": "stream",
     "text": [
      "[1, 2, 3, 4, 5, 6, 7, 8, 9, 10, 11, 12, 13, 14, 15, 16, 17, 18, 19, 20, 21, 22, 23, 24, 25]\n",
      "[1, 4, 7, 10, 13, 16, 19, 22, 25]\n"
     ]
    }
   ],
   "source": [
    "x = list(range(1,26))\n",
    "print (x)\n",
    "xy = []\n",
    "for i in range(1,26,3):\n",
    "    xy.append(i)\n",
    "print(xy)\n",
    "    "
   ]
  },
  {
   "cell_type": "code",
   "execution_count": 13,
   "metadata": {},
   "outputs": [
    {
     "name": "stdout",
     "output_type": "stream",
     "text": [
      "[101, 102, 103, 105, 106, 107, 109, 110, 111, 113, 114, 115, 117, 118, 119, 121, 122, 123]\n"
     ]
    }
   ],
   "source": [
    "x = list(range(100,125))\n",
    "for i,v in enumerate(x):\n",
    "    if i % 3 == 0:\n",
    "        x.pop(i)\n",
    "print(x)"
   ]
  },
  {
   "cell_type": "code",
   "execution_count": null,
   "metadata": {},
   "outputs": [],
   "source": [
    "### take name of 10 movies from users and store them in a list, then display the list in a sorted order"
   ]
  },
  {
   "cell_type": "code",
   "execution_count": 16,
   "metadata": {},
   "outputs": [
    {
     "name": "stdout",
     "output_type": "stream",
     "text": [
      "['cerftgt', 'dfgbftbybt', 'dfvhgdfhjvgdf', 'dhhdyybd', 'fghngfhnfth', 'fhvhkjdhb4', 'gbtbyy', 'sdfvdggvdv', 'thtyyvr']\n"
     ]
    }
   ],
   "source": [
    "movies = []\n",
    "for i in range(1,10):\n",
    "    ov = input(\"\")\n",
    "    movies.append(ov)\n",
    "\n",
    "movies.sort()\n",
    "print(movies)\n"
   ]
  },
  {
   "cell_type": "code",
   "execution_count": 17,
   "metadata": {},
   "outputs": [
    {
     "name": "stdout",
     "output_type": "stream",
     "text": [
      "[6, 6, 7, 4, 3, 2, 10, 6, 5, 1, 2, 9, 8, 7, 6, 5, 8, 9, 1, 8, 6, 2, 1, 4, 6, 6, 3, 9, 7, 2, 5, 9, 9, 6, 10, 6, 3, 10, 10, 1, 9, 5, 7, 10, 9, 4, 9, 8, 5, 4, 4, 5, 1, 9, 9, 7, 2, 3, 4, 3, 5, 10, 5, 8, 10, 5, 8, 3, 10, 5, 1, 2, 9, 1, 6, 10, 4, 8, 1, 4, 8, 1, 6, 10, 1, 4, 10, 9, 9, 4, 6, 1, 10, 8, 9, 8, 10, 5, 6]\n"
     ]
    }
   ],
   "source": [
    "nm = []\n",
    "for n in range(1,100):\n",
    "    a = randint(1,10)\n",
    "    nm.append(a)\n",
    "print(nm)"
   ]
  },
  {
   "cell_type": "code",
   "execution_count": null,
   "metadata": {},
   "outputs": [],
   "source": [
    "### create a nested list that contains triplets at each index"
   ]
  },
  {
   "cell_type": "code",
   "execution_count": 18,
   "metadata": {},
   "outputs": [
    {
     "name": "stdout",
     "output_type": "stream",
     "text": [
      "[[0, 0, 0], [1, 1, 1], [2, 2, 2], [3, 3, 3], [4, 4, 4]]\n"
     ]
    }
   ],
   "source": [
    "x3 = []\n",
    "for i in range (5):\n",
    "    x3.append([i,i,i])\n",
    "print(x3) "
   ]
  },
  {
   "cell_type": "code",
   "execution_count": 21,
   "metadata": {},
   "outputs": [
    {
     "name": "stdout",
     "output_type": "stream",
     "text": [
      "[[1, 2, 3], [4, 5, 6], [7, 8, 9]]\n"
     ]
    }
   ],
   "source": [
    "outer = []\n",
    "count = 1\n",
    "for i in range(1,4):\n",
    "    inner = []\n",
    "    for j in range(1,4):\n",
    "        inner.append(count)\n",
    "        count+=1\n",
    "    outer.append(inner)\n",
    "print(outer)"
   ]
  },
  {
   "cell_type": "code",
   "execution_count": null,
   "metadata": {},
   "outputs": [],
   "source": []
  }
 ],
 "metadata": {
  "interpreter": {
   "hash": "19d1d53a962d236aa061289c2ac16dc8e6d9648c89fe79f459ae9a3493bc67b4"
  },
  "kernelspec": {
   "display_name": "Python 3.9.12 ('base')",
   "language": "python",
   "name": "python3"
  },
  "language_info": {
   "codemirror_mode": {
    "name": "ipython",
    "version": 3
   },
   "file_extension": ".py",
   "mimetype": "text/x-python",
   "name": "python",
   "nbconvert_exporter": "python",
   "pygments_lexer": "ipython3",
   "version": "3.9.12"
  },
  "orig_nbformat": 4
 },
 "nbformat": 4,
 "nbformat_minor": 2
}
